{
  "cells": [
    {
      "attachments": {},
      "cell_type": "markdown",
      "metadata": {
        "id": "j4BwUlZCUj6v"
      },
      "source": [
        "*Classes for Predicates, Rules, Context, Facts, and Partitioned Facts*"
      ]
    },
    {
      "cell_type": "code",
      "execution_count": 1,
      "metadata": {
        "id": "T8Tj5CSJT875"
      },
      "outputs": [],
      "source": [
        "\n",
        "# class for Predicate\n",
        "\n",
        "class Predicate:\n",
        "    def __init__(self, ident, nm, deg):\n",
        "        self.id = ident # identifier of the predicate\n",
        "        self.name = nm  # Name of the predicate\n",
        "        self.degree = deg  # RENAME IT to (degree)\n",
        "        #self.predicateTerms = [] #\n",
        "        self.rules = None   # To add a rule to the list that uses the predicate\n",
        "\n",
        "\n",
        "    def getPredicateID(self):\n",
        "        return self.id\n",
        "\n",
        "    def getPredicateName(self):\n",
        "        return self.name\n",
        "    # should be getPredicateDegree\n",
        "    def getPredicateDegree(self):\n",
        "        return self.degree\n",
        "\n",
        "    #def addPredicateTerms(self, term: str):\n",
        "     #   self.predicateTerms.append(term)\n",
        "\n",
        "    #def getPredicateTerms(self):\n",
        "    #    return self.predicateTerms\n",
        "\n",
        "    def getPredicateRules(self):\n",
        "        return self.rules\n",
        "\n",
        "    #def setPredicateRules(self, rls):\n",
        "     #   self.rules = rls\n",
        "\n",
        "    def addPredicateRule(self, rle):\n",
        "        if self.rules is None:\n",
        "            self.rules = [rle]\n",
        "        else:\n",
        "            if rle not in self.rules:\n",
        "                self.rules.append(rle)\n",
        "\n",
        "    def __str__(self):\n",
        "        return f\"[ID, NAME] = [{self.id}, {self.name}]\\n\"\n",
        "\n",
        "## class for Rules\n",
        "\n",
        "\n",
        "class Rule:\n",
        "    def __init__(self, ruleID: int):\n",
        "        self.ruleID = ruleID    # rule Id\n",
        "        self.ruleBodyPredicates = [] # provide list of predicates that are used in the rule\n",
        "        self.ruleExistentialVariables = {}  # a dictionary of Predicates as key, and variable as value\n",
        "        self.ruleConclusions = []   # provide the list of the predicates used in the conclusion\n",
        "        self.ruleConclusionVariables = {}\n",
        "\n",
        "    def getRuleID(self):\n",
        "        return self.ruleID\n",
        "\n",
        "    def addRuleBodyPredicates(self, predicate: str):\n",
        "        self.ruleBodyPredicates.append(predicate)\n",
        "\n",
        "    def getRuleBodyPredicatesSize(self):\n",
        "        return len(self.ruleBodyPredicates)\n",
        "\n",
        "    def getRuleBodyPredicates(self):\n",
        "        return self.ruleBodyPredicates\n",
        "\n",
        "    def addRuleExistentialVariable(self, predi ,variable):\n",
        "        self.ruleExistentialVariables[predi] = variable\n",
        "\n",
        "    def getRuleExistentialVariables(self):\n",
        "        if len(self.ruleExistentialVariables) == 0:\n",
        "            return None\n",
        "        return self.ruleExistentialVariables\n",
        "\n",
        "    def addRuleConclusion(self, conclusion: str):\n",
        "        self.ruleConclusions.append(conclusion)\n",
        "\n",
        "    def getRuleConclusions(self):\n",
        "        return self.ruleConclusions\n",
        "\n",
        "    def addRuleConclusionVariables(self, predi ,variable):\n",
        "        self.ruleConclusionVariables[predi] = variable\n",
        "\n",
        "    def getRuleConclusionVariables(self):\n",
        "        if len(self.ruleConclusionVariables) == 0:\n",
        "            return None\n",
        "        return self.ruleConclusionVariables\n",
        "\n",
        "## Context definition\n",
        "\n",
        "class Context:\n",
        "    def __init__(self, contextID: int):\n",
        "        self.contextID = contextID      # Context Id\n",
        "        self.contextExistentialRules = set()        # provide a set of rules that are inside the context\n",
        "        self.contextLabel = None      # provide the body predicates of the rules inside the context\n",
        "        self.ruleSize = []            # size of the body of the rules in context\n",
        "        self.conclusions = []\n",
        "\n",
        "    def getContextID(self):\n",
        "        return self.contextID\n",
        "\n",
        "    def addContextExistentialRule(self, rule: str):\n",
        "        self.contextExistentialRules.add(rule)\n",
        "\n",
        "    def addRuleBodySize(self, i):\n",
        "        self.ruleSize.append(i)\n",
        "\n",
        "    def getRuleBodySize(self):\n",
        "        return self.ruleSize\n",
        "\n",
        "    def getContextExistentialRules(self):\n",
        "        if len(self.contextExistentialRules) == 0:\n",
        "            return None\n",
        "        return self.contextExistentialRules\n",
        "\n",
        "    def addContextLabel(self, label):\n",
        "        if self.contextLabel is None:\n",
        "            self.contextLabel = [label]\n",
        "        else:\n",
        "            if label not in self.contextLabel:\n",
        "               self.contextLabel.append(label)\n",
        "\n",
        "    def getContextLabel(self):\n",
        "        return self.contextLabel\n",
        "\n",
        "    def addContextConclusions(self, conclusion):\n",
        "        self.conclusions.append(conclusion)\n",
        "\n",
        "    def getContextConclusions(self):\n",
        "        return self.conclusions\n",
        "\n",
        "# class Facts\n",
        "\n",
        "class Fact:\n",
        "    def __init__(self, ident):\n",
        "        self.id = ident         #fact id\n",
        "        self.constant = []      # list of constants for fact\n",
        "        self.terms = []         #list of predicates of fact --> this is not the terms, name it Predicate\n",
        "        self.facts = {}         # dict providing predicates as key and const as values\n",
        "\n",
        "    def getFactId(self):\n",
        "        return self.id\n",
        "\n",
        "    def addFacts(self, pred, const):\n",
        "        self.facts[pred] = const\n",
        "\n",
        "    def getFacts(self):\n",
        "        return self.facts\n",
        "\n",
        "    def addFactTerms(self, predicate: str):\n",
        "        self.terms.append(predicate)\n",
        "\n",
        "    def addFactConstant(self, const):\n",
        "        self.constant.append(const)\n",
        "\n",
        "    def getFactTerms(self):\n",
        "        return self.terms\n",
        "\n",
        "    def getFactConstant(self):\n",
        "        return self.constant\n",
        "\n",
        "    def __del__(self):\n",
        "        del self.terms\n",
        "\n",
        "\n",
        "\n",
        "##Partitioned Facts\n",
        "\n",
        "class PartitionedFact:\n",
        "    def __init__(self, id):\n",
        "        self.id = id        #id for the partitioned fact, normally set as the id of context matched\n",
        "        self.Facts = []     #list of the facts added\n",
        "\n",
        "    def getID(self):\n",
        "        return self.id\n",
        "\n",
        "    def addFacts(self, fact):\n",
        "        self.Facts.append(fact)\n",
        "\n",
        "    def getPartitionedFacts(self):\n",
        "        return self.Facts\n"
      ]
    },
    {
      "attachments": {},
      "cell_type": "markdown",
      "metadata": {
        "id": "bgKNH8WI6FT5"
      },
      "source": [
        "*Predicates*"
      ]
    },
    {
      "cell_type": "code",
      "execution_count": 2,
      "metadata": {
        "id": "wDqSrw9S1MAZ"
      },
      "outputs": [],
      "source": [
        "\n",
        "# room\n",
        "room = Predicate(1, 'Room', 1)\n",
        "# light\n",
        "light = Predicate(2, 'Light', 1)\n",
        "# isInRoom\n",
        "isInRoom = Predicate(3, 'isInRoom', 2)\n",
        "# notOccupied\n",
        "not_occupied = Predicate(4, 'NotOccupied', 1)\n",
        "# asset\n",
        "asset = Predicate(5, 'Asset', 1)\n",
        "# space\n",
        "space = Predicate(6, 'Space', 1)\n",
        "# isInSpace\n",
        "isInSpace = Predicate(7, 'isInSpace', 2)    # can be converted into a function\n",
        "#lightHasStatusOFF\n",
        "lightHasStatusOFF = Predicate(8, 'lightHasStatusOFF', 1)\n",
        "#lightHasStatusOFF\n",
        "lightHasStatusON = Predicate(9,'lightHasStatusON', 1)\n",
        "# assetCategory Heating\n",
        "assetCategoryHeating = Predicate(10, 'assetCategoryHeating', 1)\n",
        "# Low space humidity\n",
        "lowHumidity = Predicate(11, 'lowHumidity', 1)\n",
        "# High space humidity\n",
        "highHumidity = Predicate(12, 'highHumidity', 1)\n",
        "# asset status\n",
        "assetHasStatusON = Predicate(13, 'assetHasStatusON', 1)\n",
        "# zones insides house\n",
        "zone = Predicate(14, 'zone', 1)\n",
        "# smoke detector\n",
        "smokeDetector = Predicate(15, 'smokeDetector', 1)\n",
        "# is in zone\n",
        "isInZone = Predicate(16, 'isInZone', 2)\n",
        "# fireAlarm\n",
        "fireAlarm = Predicate(17, 'fireAlarm', 1)\n",
        "# smokedetector status ON\n",
        "smokeDetectorStatusON = Predicate(18, 'smokeDetectorStatusON', 1)\n",
        "# smokedetector status OFF\n",
        "smokeDetectorStatusOFF = Predicate(19, 'smokeDetectorStatusOFF', 1)\n",
        "# smokedetector status ON\n",
        "fireAlarmStatusON = Predicate(20, 'fireAlarmStatusON', 1)\n",
        "# smokedetector status OFF\n",
        "fireAlarmStatusOFF = Predicate(21, 'fireAlarmStatusOFF', 1)\n",
        "# asset status\n",
        "assetHasStatusOFF = Predicate(22, 'assetHasStatusOFF', 1)\n",
        "# Occupied\n",
        "occupied = Predicate(23, 'occupied', 1)\n",
        "# assetCategory Vent\n",
        "assetCategoryVent = Predicate(24, 'assetCategoryVent', 1)\n",
        "# Space Occupied\n",
        "spaceNotOccupied = Predicate(25, 'spaceNotOccupied', 1)\n",
        "\n",
        "# adding Predicates to a set\n",
        "set_predicates = set()\n",
        "set_predicates.add(room)\n",
        "set_predicates.add(light)\n",
        "set_predicates.add(isInRoom)\n",
        "set_predicates.add(not_occupied)\n",
        "set_predicates.add(asset)\n",
        "set_predicates.add(space)\n",
        "set_predicates.add(isInSpace)\n",
        "set_predicates.add(lightHasStatusOFF)\n",
        "set_predicates.add(lightHasStatusON)\n",
        "set_predicates.add(assetCategoryHeating)\n",
        "set_predicates.add(assetCategoryVent)\n",
        "set_predicates.add(assetHasStatusON)\n",
        "set_predicates.add(assetHasStatusOFF)\n",
        "set_predicates.add(zone)\n",
        "set_predicates.add(isInZone)\n",
        "set_predicates.add(smokeDetector)\n",
        "set_predicates.add(smokeDetectorStatusOFF)\n",
        "set_predicates.add(smokeDetectorStatusON)\n",
        "set_predicates.add(fireAlarm)\n",
        "set_predicates.add(fireAlarmStatusOFF)\n",
        "set_predicates.add(fireAlarmStatusON)\n",
        "set_predicates.add(occupied)\n",
        "set_predicates.add(spaceNotOccupied)\n",
        "\n",
        "\n"
      ]
    },
    {
      "attachments": {},
      "cell_type": "markdown",
      "metadata": {
        "id": "kf6dNYDn6J1v"
      },
      "source": [
        "*Rules*"
      ]
    },
    {
      "cell_type": "code",
      "execution_count": 3,
      "metadata": {
        "id": "mbeBJ8Er6C5j"
      },
      "outputs": [],
      "source": [
        "rule1 = Rule(1)\n",
        "rule2 = Rule(2)\n",
        "rule3 = Rule(3)\n",
        "rule4 = Rule(4)\n",
        "rule5 = Rule(5)\n",
        "rule6 = Rule(6)\n",
        "rule7 = Rule(7)\n",
        "rule8 = Rule(8)\n",
        "rule9 = Rule(9)\n",
        "rule10 = Rule(10)\n",
        "\n",
        "\n",
        "\n",
        "#rule 1: room(x) --> light(y), isInRoom(y, x)\n",
        "\n",
        "rule1.addRuleBodyPredicates(room.getPredicateName())\n",
        "rule1.addRuleExistentialVariable(room.getPredicateName(), 'x')\n",
        "      # conclusion\n",
        "rule1.addRuleConclusion(light.getPredicateName())\n",
        "rule1.addRuleConclusionVariables(light.getPredicateName(), 'y')\n",
        "rule1.addRuleConclusion(isInRoom.getPredicateName())\n",
        "rule1.addRuleConclusionVariables(isInRoom.getPredicateName(), ('x','y'))\n",
        "\n",
        "\n",
        "# rule 2: light(x), room(y), isInRoom(x, y), not_occupied(y) --> lightStatusOFF(x)\n",
        "\n",
        "rule2.addRuleBodyPredicates(light.getPredicateName())\n",
        "rule2.addRuleExistentialVariable(light.getPredicateName(), 'x')\n",
        "rule2.addRuleBodyPredicates(room.getPredicateName())\n",
        "rule2.addRuleExistentialVariable(room.getPredicateName(), 'y')\n",
        "rule2.addRuleBodyPredicates(isInRoom.getPredicateName())\n",
        "rule2.addRuleExistentialVariable(isInRoom.getPredicateName(), ('x', 'y'))\n",
        "rule2.addRuleBodyPredicates(not_occupied.getPredicateName())\n",
        "rule2.addRuleExistentialVariable(not_occupied.getPredicateName(), 'y')\n",
        "      # conclusion\n",
        "rule2.addRuleConclusion(lightHasStatusOFF.getPredicateName())\n",
        "rule2.addRuleConclusionVariables(lightHasStatusOFF.getPredicateName(), 'x')\n",
        "\n",
        "\n",
        "# rule 3: asset(x) --> space(y), isInSpace(x, y)\n",
        "\n",
        "rule3.addRuleBodyPredicates(asset.getPredicateName())\n",
        "rule3.addRuleExistentialVariable(asset.getPredicateName(), 'x')\n",
        "        # conclusion\n",
        "rule3.addRuleConclusion(space.getPredicateName())\n",
        "rule3.addRuleConclusionVariables(space.getPredicateName(), 'y')\n",
        "rule3.addRuleConclusion(isInSpace.getPredicateName())\n",
        "rule3.addRuleConclusionVariables(isInSpace.getPredicateName(), ('x', 'y'))\n",
        "\n",
        "\n",
        "# rule 4: light(x), room(y), isInRoom(x, y), not_occupied(y), lightStatusON(x) --> !\n",
        "rule4.addRuleBodyPredicates(light.getPredicateName())\n",
        "rule4.addRuleExistentialVariable(light.getPredicateName(), 'x')\n",
        "rule4.addRuleBodyPredicates(room.getPredicateName())\n",
        "rule4.addRuleExistentialVariable(room.getPredicateName(), 'y')\n",
        "rule4.addRuleBodyPredicates(isInRoom.getPredicateName())\n",
        "rule4.addRuleExistentialVariable(isInRoom.getPredicateName(), ('x', 'y'))\n",
        "rule4.addRuleBodyPredicates(not_occupied.getPredicateName())\n",
        "rule4.addRuleExistentialVariable(not_occupied.getPredicateName(), 'y')\n",
        "rule4.addRuleBodyPredicates(lightHasStatusON.getPredicateName())\n",
        "rule4.addRuleExistentialVariable(lightHasStatusON.getPredicateName(), 'x' )\n",
        "# conclusion empty because of negative rule\n",
        "\n",
        "# rule 5: asset(x)∧space(y)∧isInSpace(x, y)∧assetCategory(x, V entilation)∧ spaceHumidity(y, HIGH) → assetHasStatus(x, ON )\n",
        "rule5.addRuleBodyPredicates(asset.getPredicateName())\n",
        "rule5.addRuleExistentialVariable(asset.getPredicateName(), 'x')\n",
        "rule5.addRuleBodyPredicates(space.getPredicateName())\n",
        "rule5.addRuleExistentialVariable(space.getPredicateName(), 'y')\n",
        "rule5.addRuleBodyPredicates(isInSpace.getPredicateName())\n",
        "rule5.addRuleExistentialVariable(isInSpace.getPredicateName(), ('x', 'y'))\n",
        "rule5.addRuleBodyPredicates(assetCategoryVent.getPredicateName())\n",
        "rule5.addRuleExistentialVariable(assetCategoryVent.getPredicateName(), 'x')         # need to change this\n",
        "rule5.addRuleBodyPredicates(highHumidity.getPredicateName())\n",
        "rule5.addRuleExistentialVariable(highHumidity.getPredicateName(), 'y')\n",
        "      # conclusion\n",
        "rule5.addRuleConclusion(assetHasStatusON.getPredicateName())\n",
        "rule5.addRuleConclusionVariables(assetHasStatusON.getPredicateName(), 'x')\n",
        "\n",
        "# rule 6: asset(x)∧space(y)∧isInSpace(x, y)∧assetCategory(x, V entilation)∧ spaceHumidity(y, HIGH) ∧ assetHasStatus(x, OF F ) → ⊥\n",
        "rule6.addRuleBodyPredicates(asset.getPredicateName())\n",
        "rule6.addRuleExistentialVariable(asset.getPredicateName(), 'x')\n",
        "rule6.addRuleBodyPredicates(space.getPredicateName())\n",
        "rule6.addRuleExistentialVariable(space.getPredicateName(), 'y')\n",
        "rule6.addRuleBodyPredicates(isInSpace.getPredicateName())\n",
        "rule6.addRuleExistentialVariable(isInSpace.getPredicateName(), ('x', 'y'))\n",
        "rule6.addRuleBodyPredicates(assetCategoryVent.getPredicateName())\n",
        "rule6.addRuleExistentialVariable(assetCategoryVent.getPredicateName(), 'x')         # need to change this\n",
        "rule6.addRuleBodyPredicates(highHumidity.getPredicateName())\n",
        "rule6.addRuleExistentialVariable(highHumidity.getPredicateName(), 'y')\n",
        "rule6.addRuleBodyPredicates(assetHasStatusOFF.getPredicateName())\n",
        "rule6.addRuleExistentialVariable(assetHasStatusOFF.getPredicateName(), 'x')\n",
        "      # No conclusion\n",
        "\n",
        "# rule 7: asset(x) ∧ space(y) ∧ isInSpace(x, y) ∧ assetCategory(x, Heater)∧ occupied(y, N U LL) ∧ assetHasStatus(x, ON ) → ⊥\n",
        "rule7.addRuleBodyPredicates(asset.getPredicateName())\n",
        "rule7.addRuleExistentialVariable(asset.getPredicateName(), 'x')\n",
        "rule7.addRuleBodyPredicates(space.getPredicateName())\n",
        "rule7.addRuleExistentialVariable(space.getPredicateName(), 'y')\n",
        "rule7.addRuleBodyPredicates(isInSpace.getPredicateName())\n",
        "rule7.addRuleExistentialVariable(isInSpace.getPredicateName(), ('x', 'y'))\n",
        "rule7.addRuleBodyPredicates(assetCategoryHeating.getPredicateName())\n",
        "rule7.addRuleExistentialVariable(assetCategoryHeating.getPredicateName(), 'x')         # need to change this\n",
        "rule7.addRuleBodyPredicates(spaceNotOccupied.getPredicateName())\n",
        "rule7.addRuleExistentialVariable(spaceNotOccupied.getPredicateName(), 'y')\n",
        "rule7.addRuleBodyPredicates(assetHasStatusON.getPredicateName())\n",
        "rule7.addRuleExistentialVariable(assetHasStatusON.getPredicateName(), 'x')\n",
        "      # No conclusion\n",
        "\n",
        "\n",
        "# add the rules to a set\n",
        "\n",
        "set_rules = set()\n",
        "\n",
        "set_rules.add(rule1)\n",
        "set_rules.add(rule2)\n",
        "set_rules.add(rule3)\n",
        "set_rules.add(rule4)\n",
        "set_rules.add(rule5)\n",
        "set_rules.add(rule6)\n",
        "set_rules.add(rule7)"
      ]
    },
    {
      "attachments": {},
      "cell_type": "markdown",
      "metadata": {
        "id": "754-zPZdEEbh"
      },
      "source": [
        "*Set of Facts*"
      ]
    },
    {
      "cell_type": "code",
      "execution_count": 4,
      "metadata": {
        "id": "VoGTeykkEB6t"
      },
      "outputs": [],
      "source": [
        "factRoom = Fact(1)\n",
        "factLight = Fact(2)\n",
        "factNotOccupied = Fact(3)\n",
        "factisInRoom = Fact(4)\n",
        "factAsset = Fact(5)\n",
        "factSpaceNotOccupied = Fact(6)\n",
        "factSpace = Fact(7)\n",
        "factAssetCatHeat = Fact(8)\n",
        "\n",
        "\n",
        "\n",
        "## room(202)\n",
        "factRoom.addFactConstant('202')\n",
        "factRoom.addFacts(room.getPredicateName(), '202')\n",
        "factRoom.addFactTerms(room.getPredicateName())\n",
        "\n",
        "### light(a)\n",
        "\n",
        "factLight.addFactConstant('a')\n",
        "factLight.addFacts(light.getPredicateName(), 'a')\n",
        "factLight.addFactTerms(light.getPredicateName())\n",
        "\n",
        "## NotOccupied(202)\n",
        "\n",
        "factNotOccupied.addFactConstant('202')\n",
        "factNotOccupied.addFacts(not_occupied.getPredicateName(), '202')\n",
        "factNotOccupied.addFactTerms(not_occupied.getPredicateName())\n",
        "\n",
        "## space\n",
        "factSpace.addFactConstant('u')\n",
        "factSpace.addFacts(space.getPredicateName(), 'u')\n",
        "factSpace.addFactTerms(space.getPredicateName())\n",
        "\n",
        "## SpaceNotOccupied(202)\n",
        "\n",
        "factSpaceNotOccupied.addFactConstant('u')\n",
        "factSpaceNotOccupied.addFacts(spaceNotOccupied.getPredicateName(), 'u')\n",
        "factSpaceNotOccupied.addFactTerms(spaceNotOccupied.getPredicateName())\n",
        "\n",
        "### isInRoom(a, 202)\n",
        "\n",
        "factisInRoom.addFactConstant(('a', '202'))\n",
        "factisInRoom.addFacts(isInRoom.getPredicateName(), ('a', '202'))\n",
        "factisInRoom.addFactTerms(isInRoom.getPredicateName())\n",
        "\n",
        "\n",
        "#### asset(Heater)\n",
        "\n",
        "factAsset.addFactConstant('Heater')\n",
        "factAsset.addFacts(asset.getPredicateName(), 'Heater')\n",
        "factAsset.addFactTerms(asset.getPredicateName())\n",
        "\n",
        "#### assetCategory(heating)\n",
        "factAssetCatHeat.addFactConstant('Heater')\n",
        "factAssetCatHeat.addFacts(assetCategoryHeating.getPredicateName(), 'Heater')\n",
        "factAssetCatHeat.addFactTerms(assetCategoryHeating.getPredicateName())\n",
        "\n",
        "\n",
        "\n",
        "set_facts = set()\n",
        "\n",
        "set_facts.add(factRoom)\n",
        "set_facts.add(factLight)\n",
        "set_facts.add(factNotOccupied)\n",
        "set_facts.add(factisInRoom)\n",
        "set_facts.add(factAsset)\n",
        "set_facts.add(factAssetCatHeat)\n",
        "set_facts.add(factSpace)\n",
        "set_facts.add(factSpaceNotOccupied)"
      ]
    },
    {
      "attachments": {},
      "cell_type": "markdown",
      "metadata": {
        "id": "m0uDfSUHU9P-"
      },
      "source": [
        "*Function for making context based on the Algorithm 1 in the article*"
      ]
    },
    {
      "cell_type": "code",
      "execution_count": 5,
      "metadata": {
        "id": "22ZhkUXwUCgc"
      },
      "outputs": [],
      "source": [
        "C = set()\n",
        "def contextMaking(rules):\n",
        "    id = 0\n",
        "    for i in rules:\n",
        "        result = []\n",
        "        #print(\"predicate\", i.getRuleBodyPredicates())\n",
        "        if len(C) == 0:\n",
        "            cont = Context(id)\n",
        "            cont.addContextExistentialRule(i)\n",
        "            cont.addRuleBodySize(i.getRuleBodyPredicatesSize())\n",
        "            cont.addContextConclusions(i.getRuleConclusions())\n",
        "            for j in i.getRuleBodyPredicates():\n",
        "                cont.addContextLabel(j)\n",
        "            C.add(cont)\n",
        "            #print(\"context is made\")\n",
        "        else:\n",
        "            for c in C.copy():\n",
        "                label = set(c.getContextLabel())\n",
        "                #print(\"label\",label)\n",
        "                res = label.intersection(set(i.getRuleBodyPredicates()))\n",
        "                #print(res)\n",
        "                if len(res) !=0:\n",
        "                  result.append(res)\n",
        "                  cxt = []\n",
        "                  cxt.append(c)\n",
        "            if len(result) == 0:\n",
        "                cont = Context(id)\n",
        "                cont.addContextExistentialRule(i)\n",
        "                cont.addRuleBodySize(i.getRuleBodyPredicatesSize())\n",
        "                cont.addContextConclusions(i.getRuleConclusions())\n",
        "                for j in i.getRuleBodyPredicates():\n",
        "                    cont.addContextLabel(j)\n",
        "                C.add(cont)\n",
        "                #print(\"res is zero, new context made\")\n",
        "            else:\n",
        "              for k in cxt:\n",
        "                k.addContextExistentialRule(i)\n",
        "                for j in i.getRuleBodyPredicates():\n",
        "                    k.addContextLabel(j)\n",
        "                #c.addContextExistentialRule(i)\n",
        "                #print(\"context updated\")\n",
        "        id+=1\n",
        "    return C"
      ]
    },
    {
      "cell_type": "code",
      "execution_count": 6,
      "metadata": {
        "colab": {
          "base_uri": "https://localhost:8080/"
        },
        "id": "u-oRuXZRIzeq",
        "outputId": "f42832a0-aa75-49b2-ba7b-851212456c90"
      },
      "outputs": [
        {
          "data": {
            "text/plain": [
              "{<__main__.Context at 0x28844e85290>, <__main__.Context at 0x28846482e50>}"
            ]
          },
          "execution_count": 6,
          "metadata": {},
          "output_type": "execute_result"
        }
      ],
      "source": [
        "contextMaking(set_rules)"
      ]
    },
    {
      "cell_type": "code",
      "execution_count": 7,
      "metadata": {
        "colab": {
          "base_uri": "https://localhost:8080/"
        },
        "id": "Lc74NvwvJBSa",
        "outputId": "aeb89f2f-15bf-4632-862b-b3a5342834b7"
      },
      "outputs": [
        {
          "name": "stdout",
          "output_type": "stream",
          "text": [
            "['Asset', 'Space', 'isInSpace', 'assetCategoryVent', 'highHumidity', 'assetHasStatusOFF', 'assetCategoryHeating', 'spaceNotOccupied', 'assetHasStatusON']\n",
            "['Light', 'Room', 'isInRoom', 'NotOccupied', 'lightHasStatusON']\n"
          ]
        }
      ],
      "source": [
        "for i in C:\n",
        "  print(i.getContextLabel())"
      ]
    },
    {
      "attachments": {},
      "cell_type": "markdown",
      "metadata": {
        "id": "4uoaGfuFVM1a"
      },
      "source": [
        "*Function for partition of facts based on the algorithm 2 in the article*"
      ]
    },
    {
      "cell_type": "code",
      "execution_count": 8,
      "metadata": {
        "id": "XrRa_nC5UJif"
      },
      "outputs": [],
      "source": [
        "set_Partition_Fact = set()\n",
        "\n",
        "def fact_Partition(facts, context):\n",
        "    result = []    #list for result of comparision\n",
        "    matched_facts = []             # list of the facts that matched the context\n",
        "    for c in context:\n",
        "        label = set(c.getContextLabel())\n",
        "        for j in facts:\n",
        "          if j is not None:\n",
        "            terms = j.getFactTerms()\n",
        "            #print(\"terms\", set(terms))\n",
        "            res = set(terms).intersection(label)           # for comparison of the facts and label of the context\n",
        "            if len(res) == 0:\n",
        "              continue\n",
        "            else:\n",
        "              pfact = Fact(c.getContextID())\n",
        "              for key, val in j.getFacts().items():\n",
        "                pfact.addFacts(key, val)\n",
        "                pfact.addFactTerms(key)\n",
        "                pfact.addFactConstant(val)\n",
        "              set_Partition_Fact.add(pfact)\n",
        "\n",
        "                                      # if intersection is not empty\n",
        "        #         result.append(res)\n",
        "        #         matched_facts.append(j)\n",
        "        # if len(res) != 0:                          #if intersection is not empty make new facts.\n",
        "        #     pfact = Fact(c.getContextID())\n",
        "        #     for i in matched_facts:\n",
        "        #         for key, val in i.getFacts().items():\n",
        "        #             pfact.addFacts(key, val)\n",
        "        #             pfact.addFactTerms(key)\n",
        "        #             pfact.addFactConstant(val)\n",
        "        #     if pfact in set_Partition_Fact:\n",
        "        #         continue\n",
        "            # else:\n",
        "            #     set_Partition_Fact.add(pfact)\n",
        "    return set_Partition_Fact"
      ]
    },
    {
      "cell_type": "code",
      "execution_count": 9,
      "metadata": {
        "colab": {
          "base_uri": "https://localhost:8080/"
        },
        "id": "SBntXlkqJVgc",
        "outputId": "64791582-5b55-4867-fb0f-55a3a8493e26"
      },
      "outputs": [
        {
          "data": {
            "text/plain": [
              "{<__main__.Fact at 0x28844eb1f90>,\n",
              " <__main__.Fact at 0x28844eb3790>,\n",
              " <__main__.Fact at 0x28844eb3f50>,\n",
              " <__main__.Fact at 0x2884634dc50>,\n",
              " <__main__.Fact at 0x28846495a50>,\n",
              " <__main__.Fact at 0x288464a1690>,\n",
              " <__main__.Fact at 0x288464b3310>,\n",
              " <__main__.Fact at 0x288464b3bd0>}"
            ]
          },
          "execution_count": 9,
          "metadata": {},
          "output_type": "execute_result"
        }
      ],
      "source": [
        "fact_Partition(set_facts, C)"
      ]
    },
    {
      "cell_type": "code",
      "execution_count": 10,
      "metadata": {
        "colab": {
          "base_uri": "https://localhost:8080/"
        },
        "id": "eC7bYbqGJh0l",
        "outputId": "3c23b090-5ff4-488b-d071-e2cda3cee8ff"
      },
      "outputs": [
        {
          "name": "stdout",
          "output_type": "stream",
          "text": [
            "2\n",
            "2\n",
            "2\n",
            "0\n",
            "0\n",
            "0\n",
            "2\n",
            "0\n"
          ]
        }
      ],
      "source": [
        "for f in set_Partition_Fact:\n",
        "    x = f.getFactId()\n",
        "    print(x)"
      ]
    },
    {
      "attachments": {},
      "cell_type": "markdown",
      "metadata": {
        "id": "EWWBmHwwVXX2"
      },
      "source": [
        "*Fucntion to find the homomorphism between a given rule and fact. This return a dictionary where key is a variable \"x\" and value is its mapping \"cat\"*"
      ]
    },
    {
      "cell_type": "code",
      "execution_count": 11,
      "metadata": {
        "id": "rq8bQ_7GUNa2"
      },
      "outputs": [],
      "source": [
        "def find_homomorphism(rule, fact):\n",
        "    substituation_dict = {}\n",
        "    rule_values = rule.getRuleExistentialVariables()           # take the values of the rules variables\n",
        "    rule_body = rule.getRuleBodyPredicates()                    # take the rule body predicates\n",
        "    #print(\"rule body\", rule_body)\n",
        "    if fact is not None:\n",
        "      fact_body = fact.getFacts()                                # get the fact dictionary\n",
        "      #print(\"list of facts\", list(fact_body.keys()))\n",
        "      for p in rule_body:                                # for predicate in the rule body check if it exist in the list of predicates of the facts\n",
        "          if p in list(fact_body.keys()):\n",
        "              substituation_dict[rule_values[p]] = fact_body[p]\n",
        "          else:\n",
        "              return None\n",
        "    return substituation_dict"
      ]
    },
    {
      "attachments": {},
      "cell_type": "markdown",
      "metadata": {
        "id": "85Gdyc9EVtaG"
      },
      "source": [
        "*This function seperate negative rules from the set of rules*"
      ]
    },
    {
      "cell_type": "code",
      "execution_count": 12,
      "metadata": {
        "id": "7Ecp_qYWUQb6"
      },
      "outputs": [],
      "source": [
        "negative_rules_set = set()\n",
        "def negative_rules(rules)->set:\n",
        "  for r in rules:\n",
        "    if len(r.getRuleConclusions()) == 0:\n",
        "      negative_rules_set.add(r)\n",
        "  return negative_rules_set"
      ]
    },
    {
      "cell_type": "code",
      "execution_count": 13,
      "metadata": {
        "colab": {
          "base_uri": "https://localhost:8080/"
        },
        "id": "qroqxRIr6NbU",
        "outputId": "6e9e540b-6b1f-44fe-d06c-fccfa9879140"
      },
      "outputs": [
        {
          "name": "stdout",
          "output_type": "stream",
          "text": [
            "3\n"
          ]
        }
      ],
      "source": [
        "negative_rules(set_rules)\n",
        "print(len(negative_rules_set))"
      ]
    },
    {
      "attachments": {},
      "cell_type": "markdown",
      "metadata": {
        "id": "XQqBhz5lV_Jn"
      },
      "source": [
        "*This is the main derivation method. This derive new result. this function take a rule and fact as input and return derived result list.*"
      ]
    },
    {
      "cell_type": "code",
      "execution_count": 14,
      "metadata": {
        "id": "8xFcf1ZVUTxy"
      },
      "outputs": [],
      "source": [
        "### derive Method for Anomaly detection\n",
        "import random\n",
        "\n",
        "def derive_method(rule, fact):\n",
        "    derived_result = []\n",
        "    der = {}\n",
        "    random_dict = {}\n",
        "    fresh_variables = ['X', 'Y', 'Z']      # for those predicates whose value doesn't exist in the substituation set NEED TO IMPROVE\n",
        "    mapping = find_homomorphism(rule, fact)  # calling the function of homomorphism\n",
        "    #print(\"mapping\", mapping)\n",
        "    conclusion_predicates = rule.getRuleExistentialVariables().keys()   #get conclusion predicates\n",
        "    if mapping is not None:\n",
        "        #print(\"mapping\", mapping)\n",
        "        for key, val in rule.getRuleConclusionVariables().items():      #if the mapping is not empty, get the keys and values\n",
        "            for k,v in mapping.items():\n",
        "                if isinstance(val, tuple):                           # for the case when we have tuples as a value\n",
        "                    new_list = []\n",
        "                    for i in val:\n",
        "                        if i == k:\n",
        "                            new_list.append(v)\n",
        "                        else:\n",
        "#                             if i in list(random_dict.copy().keys()):\n",
        "#                                 new_list.append(random_dict[i])\n",
        "#                             else:\n",
        "#                                 random_val = random.choice(fresh_variables)\n",
        "#                                 random_dict[i] = random_val\n",
        "#                                 new_list.append(random_val)\n",
        "                            if len(random_dict.copy()) == 0:\n",
        "                                random_val = random.choice(fresh_variables)          # assigning the new fresh values\n",
        "                                random_dict[i] = random_val\n",
        "                                new_list.append(random_val)                    # putting the values in the list to avoid the repeatition\n",
        "                            else:\n",
        "                                for t in random_dict.copy().keys():\n",
        "                                    if i == t:\n",
        "                                        new_list.append(random_dict[t])\n",
        "                                        break\n",
        "                                    else:\n",
        "                                        random_val = random.choice(fresh_variables)\n",
        "                                        random_dict[i] = random_val\n",
        "                                        new_list.append(random_val)\n",
        "                    der[key] = new_list                          # assigning the list to the key\n",
        "                    derived_result.append(der.copy())\n",
        "                else:\n",
        "                    if val==k:\n",
        "                        der[key] = v\n",
        "                        derived_result.append(der.copy())\n",
        "                    else:\n",
        "                        if len(random_dict.copy()) == 0:\n",
        "                            random_val = random.choice(fresh_variables)          # assigning the new fresh values\n",
        "                            random_dict[val] = random_val\n",
        "                            der[key] = random_val\n",
        "                            derived_result.append(der.copy())\n",
        "                        else:\n",
        "                            random_val = random.choice(fresh_variables)\n",
        "                            random_dict[key] = random_val\n",
        "                            der[key] = random_val\n",
        "                            derived_result.append(der.copy())\n",
        "    else:\n",
        "        return None\n",
        "    return derived_result"
      ]
    },
    {
      "attachments": {},
      "cell_type": "markdown",
      "metadata": {
        "id": "BRhvlmFyWT5A"
      },
      "source": [
        "*This function is used for contextual derivation, take context and fact as an input.*"
      ]
    },
    {
      "cell_type": "code",
      "execution_count": 15,
      "metadata": {
        "id": "gE0veQB5UXi9"
      },
      "outputs": [],
      "source": [
        "### context derive methond for anomaly detection\n",
        "\n",
        "import time\n",
        "\n",
        "def context_make_derivation(context, fact):\n",
        "\n",
        "    result = []\n",
        "    new_factList = []\n",
        "    for r in set_rules:\n",
        "      res = derive_method(r, fact)\n",
        "      if res is not None:                             # if derivation is not empty\n",
        "          if res in result:                           # if the res is already existing or derived in pervisous derivation\n",
        "              break\n",
        "          else:\n",
        "              result.append(res)                      # append the derived result in list\n",
        "              new_fact = Fact(len(set_facts)+1)            # create new fact\n",
        "              for i in res:\n",
        "                  for key, val in i.items():            # make new derived facts and added to the set of facts\n",
        "                      new_fact.addFacts(key, val)\n",
        "                      new_fact.addFactTerms(key)\n",
        "                      new_fact.addFactConstant(val)\n",
        "                  new_factList.append(new_fact)\n",
        "    return new_factList"
      ]
    },
    {
      "attachments": {},
      "cell_type": "markdown",
      "metadata": {
        "id": "iJRv8RqZWgOK"
      },
      "source": [
        "*This code this used for getting the conclusion predicate of a context.** **This can be added to the class of Context**"
      ]
    },
    {
      "cell_type": "code",
      "execution_count": 16,
      "metadata": {
        "id": "lmTHF47PUbEG"
      },
      "outputs": [],
      "source": [
        "def context_conclusion(context)-> list:\n",
        "  list_conclusions = []\n",
        "  for r in context.getContextExistentialRules():\n",
        "    conclusion_rule = r.getRuleConclusions()\n",
        "    list_conclusions.append(conclusion_rule)\n",
        "  return list_conclusions"
      ]
    },
    {
      "attachments": {},
      "cell_type": "markdown",
      "metadata": {
        "id": "mjaVjfYfXCTK"
      },
      "source": [
        "*This is the main function, this function is used to detect anomalies. This is based on algorithm 3 in the article*"
      ]
    },
    {
      "cell_type": "code",
      "execution_count": 19,
      "metadata": {
        "id": "kDE_YCDtUd_4"
      },
      "outputs": [],
      "source": [
        "def anomaly_detection(rules, facts, context, negative_rule):\n",
        "  k = 0           ## number of derivation\n",
        "  start = time.time()\n",
        "  pervious_result = []\n",
        "  current_result = []\n",
        "  while True:\n",
        "    k+=1\n",
        "    matching_context = []\n",
        "    negative_predicates = []\n",
        "    partition = fact_Partition(facts, context)\n",
        "    if len(negative_rule) != 0:\n",
        "      for i in negative_rule:\n",
        "        #print(\"rule predicates\", i.getRuleBodyPredicates())\n",
        "        for f in facts:\n",
        "          #print(\"fact terms\", f.getFactTerms())\n",
        "          # should call mapping instead\n",
        "          maping = find_homomorphism(i, f)\n",
        "          #print(maping)\n",
        "          if maping is not None:\n",
        "            print(\"alert!!!!! Attack Detected, attack caused due to\", i.getRuleID(), i.getRuleBodyPredicates())\n",
        "            end = time.time()\n",
        "            process_time = end - start\n",
        "            print(\"processing time\", process_time)\n",
        "            return\n",
        "          else:\n",
        "            p = i.getRuleBodyPredicates()\n",
        "            negative_predicates.append(p)\n",
        "    else:\n",
        "      print(\"no negative rules found\")\n",
        "      end = time.time()\n",
        "      process_time = end - start\n",
        "      print(\"processing time\", process_time)\n",
        "      return\n",
        "    for c in context:\n",
        "      list_context_conclusion = context_conclusion(c)\n",
        "      # putting the values in one list\n",
        "      flattened_list = [item for sublist in list_context_conclusion for item in sublist]\n",
        "      #print(\"list of conclusions\", list_context_conclusion)\n",
        "      for p in negative_predicates:\n",
        "        #print(\"negative Predicate is\", p)\n",
        "        common_elements = set(flattened_list).intersection(p)\n",
        "        if len(common_elements) == 0:\n",
        "          continue\n",
        "        else:\n",
        "          #print(\"here\")\n",
        "          for f in partition:\n",
        "            if c.getContextID() == f.getFactId():\n",
        "              derivition = context_make_derivation(c, f)\n",
        "              #print(\"new fact derived\", derivition)\n",
        "              if derivition is not None:\n",
        "               current_result = derivition\n",
        "              else:\n",
        "                print(\"nothing derived\")\n",
        "                return\n",
        "    if pervious_result is not None and pervious_result == current_result:\n",
        "      print(\"no new facts derived\")\n",
        "      end = time.time()\n",
        "      process_time = end - start\n",
        "      print(\"processing time\", process_time)\n",
        "      return\n",
        "    else:\n",
        "      for i in current_result:\n",
        "        facts.add(i)\n",
        "      pervious_result = current_result\n",
        "  end = time.time()\n",
        "  process_time = end - start\n",
        "  print(\"processing time\", process_time)\n",
        "\n",
        "  return facts"
      ]
    },
    {
      "cell_type": "code",
      "execution_count": 20,
      "metadata": {
        "colab": {
          "base_uri": "https://localhost:8080/"
        },
        "id": "pYCt3Rn856Qy",
        "outputId": "3afbdd0a-2191-482d-aff0-f629f0f1a82e"
      },
      "outputs": [
        {
          "name": "stdout",
          "output_type": "stream",
          "text": [
            "no new facts derived\n",
            "processing time 0.0019922256469726562\n"
          ]
        }
      ],
      "source": [
        "anomaly_detection(set_rules, set_facts, C, negative_rules_set)"
      ]
    },
    {
      "cell_type": "code",
      "execution_count": null,
      "metadata": {
        "id": "FlJnPvb26ACp"
      },
      "outputs": [],
      "source": []
    }
  ],
  "metadata": {
    "colab": {
      "provenance": []
    },
    "kernelspec": {
      "display_name": "Python 3",
      "name": "python3"
    },
    "language_info": {
      "codemirror_mode": {
        "name": "ipython",
        "version": 3
      },
      "file_extension": ".py",
      "mimetype": "text/x-python",
      "name": "python",
      "nbconvert_exporter": "python",
      "pygments_lexer": "ipython3",
      "version": "3.11.0"
    }
  },
  "nbformat": 4,
  "nbformat_minor": 0
}

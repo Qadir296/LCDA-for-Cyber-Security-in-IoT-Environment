{
  "cells": [
    {
      "attachments": {},
      "cell_type": "markdown",
      "metadata": {
        "id": "546oQdJONhqR"
      },
      "source": [
        "**Definition of classes for Predicate, Rule, Context, Facts, and Partitioned Facts**"
      ]
    },
    {
      "cell_type": "code",
      "execution_count": 1,
      "metadata": {
        "id": "jjm7cdl7qzN0"
      },
      "outputs": [],
      "source": [
        "import time"
      ]
    },
    {
      "cell_type": "code",
      "execution_count": 2,
      "metadata": {
        "id": "dDhQj_jE9lP5"
      },
      "outputs": [],
      "source": [
        "\n",
        "# class for Predicate\n",
        "\n",
        "class Predicate:\n",
        "    def __init__(self, ident, nm, deg):\n",
        "        self.id = ident # identifier of the predicate\n",
        "        self.name = nm  # Name of the predicate\n",
        "        self.degree = deg  # RENAME IT to (degree)\n",
        "        #self.predicateTerms = [] #\n",
        "        self.rules = None   # To add a rule to the list that uses the predicate\n",
        "\n",
        "\n",
        "    def getPredicateID(self):\n",
        "        return self.id\n",
        "\n",
        "    def getPredicateName(self):\n",
        "        return self.name\n",
        "    # should be getPredicateDegree\n",
        "    def getPredicateDegree(self):\n",
        "        return self.degree\n",
        "\n",
        "    #def addPredicateTerms(self, term: str):\n",
        "     #   self.predicateTerms.append(term)\n",
        "\n",
        "    #def getPredicateTerms(self):\n",
        "    #    return self.predicateTerms\n",
        "\n",
        "    def getPredicateRules(self):\n",
        "        return self.rules\n",
        "\n",
        "    #def setPredicateRules(self, rls):\n",
        "     #   self.rules = rls\n",
        "\n",
        "    def addPredicateRule(self, rle):\n",
        "        if self.rules is None:\n",
        "            self.rules = [rle]\n",
        "        else:\n",
        "            if rle not in self.rules:\n",
        "                self.rules.append(rle)\n",
        "\n",
        "    def __str__(self):\n",
        "        return f\"[ID, NAME] = [{self.id}, {self.name}]\\n\"\n",
        "\n",
        "## class for Rules\n",
        "\n",
        "\n",
        "class Rule:\n",
        "    def __init__(self, ruleID: int):\n",
        "        self.ruleID = ruleID    # rule Id\n",
        "        self.ruleBodyPredicates = [] # provide list of predicates that are used in the rule\n",
        "        self.ruleExistentialVariables = {}  # a dictionary of Predicates as key, and variable as value\n",
        "        self.ruleConclusions = []   # provide the list of the predicates used in the conclusion\n",
        "        self.ruleConclusionVariables = {}\n",
        "\n",
        "    def getRuleID(self):\n",
        "        return self.ruleID\n",
        "\n",
        "    def addRuleBodyPredicates(self, predicate: str):\n",
        "        self.ruleBodyPredicates.append(predicate)\n",
        "\n",
        "    def getRuleBodyPredicatesSize(self):\n",
        "        return len(self.ruleBodyPredicates)\n",
        "\n",
        "    def getRuleBodyPredicates(self):\n",
        "        return self.ruleBodyPredicates\n",
        "\n",
        "    def addRuleExistentialVariable(self, predi ,variable):\n",
        "        self.ruleExistentialVariables[predi] = variable\n",
        "\n",
        "    def getRuleExistentialVariables(self):\n",
        "        if len(self.ruleExistentialVariables) == 0:\n",
        "            return None\n",
        "        return self.ruleExistentialVariables\n",
        "\n",
        "    def addRuleConclusion(self, conclusion: str):\n",
        "        self.ruleConclusions.append(conclusion)\n",
        "\n",
        "    def getRuleConclusions(self):\n",
        "        return self.ruleConclusions\n",
        "\n",
        "    def addRuleConclusionVariables(self, predi ,variable):\n",
        "        self.ruleConclusionVariables[predi] = variable\n",
        "\n",
        "    def getRuleConclusionVariables(self):\n",
        "        if len(self.ruleConclusionVariables) == 0:\n",
        "            return None\n",
        "        return self.ruleConclusionVariables\n",
        "\n",
        "## Context definition\n",
        "\n",
        "class Context:\n",
        "    def __init__(self, contextID: int):\n",
        "        self.contextID = contextID      # Context Id\n",
        "        self.contextExistentialRules = set()        # provide a set of rules that are inside the context\n",
        "        self.contextLabel = None      # provide the body predicates of the rules inside the context\n",
        "        self.ruleSize = []            # size of the body of the rules in context\n",
        "        self.conclusions = []\n",
        "\n",
        "    def getContextID(self):\n",
        "        return self.contextID\n",
        "\n",
        "    def addContextExistentialRule(self, rule: str):\n",
        "        self.contextExistentialRules.add(rule)\n",
        "\n",
        "    def addRuleBodySize(self, i):\n",
        "        self.ruleSize.append(i)\n",
        "\n",
        "    def getRuleBodySize(self):\n",
        "        return self.ruleSize\n",
        "\n",
        "    def getContextExistentialRules(self):\n",
        "        if len(self.contextExistentialRules) == 0:\n",
        "            return None\n",
        "        return self.contextExistentialRules\n",
        "\n",
        "    def addContextLabel(self, label):\n",
        "        if self.contextLabel is None:\n",
        "            self.contextLabel = [label]\n",
        "        else:\n",
        "            if label not in self.contextLabel:\n",
        "               self.contextLabel.append(label)\n",
        "\n",
        "    def getContextLabel(self):\n",
        "        return self.contextLabel\n",
        "\n",
        "    def addContextConclusions(self, conclusion):\n",
        "        self.conclusions.append(conclusion)\n",
        "\n",
        "    def getContextConclusions(self):\n",
        "        return self.conclusions\n",
        "\n",
        "# class Facts\n",
        "\n",
        "class Fact:\n",
        "    def __init__(self, ident):\n",
        "        self.id = ident         #fact id\n",
        "        self.constant = []      # list of constants for fact\n",
        "        self.terms = []         #list of predicates of fact --> this is not the terms, name it Predicate\n",
        "        self.facts = {}         # dict providing predicates as key and const as values\n",
        "\n",
        "    def getFactId(self):\n",
        "        return self.id\n",
        "\n",
        "    def addFacts(self, pred, const):\n",
        "        self.facts[pred] = const\n",
        "\n",
        "    def getFacts(self):\n",
        "        return self.facts\n",
        "\n",
        "    def addFactTerms(self, predicate: str):\n",
        "        self.terms.append(predicate)\n",
        "\n",
        "    def addFactConstant(self, const):\n",
        "        self.constant.append(const)\n",
        "\n",
        "    def getFactTerms(self):\n",
        "        return self.terms\n",
        "\n",
        "    def getFactConstant(self):\n",
        "        return self.constant\n",
        "\n",
        "    def __del__(self):\n",
        "        del self.terms\n",
        "\n",
        "\n",
        "\n",
        "##Partitioned Facts\n",
        "\n",
        "class PartitionedFact:\n",
        "    def __init__(self, id):\n",
        "        self.id = id        #id for the partitioned fact, normally set as the id of context matched\n",
        "        self.Facts = []     #list of the facts added\n",
        "\n",
        "    def getID(self):\n",
        "        return self.id\n",
        "\n",
        "    def addFacts(self, fact):\n",
        "        self.Facts.append(fact)\n",
        "\n",
        "    def getPartitionedFacts(self):\n",
        "        return self.Facts\n"
      ]
    },
    {
      "attachments": {},
      "cell_type": "markdown",
      "metadata": {
        "id": "A7duIgv8NzoH"
      },
      "source": [
        "**Adding entries to the KBS.**"
      ]
    },
    {
      "cell_type": "code",
      "execution_count": 3,
      "metadata": {
        "id": "0VpRnmOP9s1I"
      },
      "outputs": [],
      "source": [
        "################# Predicates ################\n",
        "Animal = Predicate(1, 'Animal', 1)\n",
        "Vertebrates = Predicate(2, 'Vertebrates', 1)\n",
        "Mammal = Predicate(3, 'Mammal', 1)\n",
        "hasPart = Predicate(4, 'hasPart', 2)\n",
        "hasPart_Mammal = Predicate(7, 'hasPart_Mammal', 1)\n",
        "hasPart_Hair = Predicate(8, 'hasPart_Hair', 1)\n",
        "hasPart_Bone = Predicate(9, 'hasPart_Bone', 1)\n",
        "Skeleton = Predicate(5, 'Skeleton', 1)\n",
        "Ostiechtyien = Predicate(6, 'Ostiechtyien', 1)"
      ]
    },
    {
      "cell_type": "code",
      "execution_count": 4,
      "metadata": {
        "id": "autj8XCyjh5r"
      },
      "outputs": [],
      "source": [
        "set_predicates = set()\n",
        "set_predicates.add(Animal)\n",
        "set_predicates.add(Vertebrates)\n",
        "set_predicates.add(Mammal)\n",
        "set_predicates.add(hasPart)\n",
        "set_predicates.add(hasPart_Mammal)\n",
        "set_predicates.add(hasPart_Hair)\n",
        "set_predicates.add(hasPart_Bone)\n",
        "set_predicates.add(Skeleton)\n",
        "set_predicates.add(Ostiechtyien)"
      ]
    },
    {
      "cell_type": "code",
      "execution_count": 5,
      "metadata": {
        "id": "0xHF9ZCV68ZN"
      },
      "outputs": [],
      "source": [
        "############ Facts ###############\n",
        "FactAnimal = Fact(1)\n",
        "#FactHasPart = Fact(2)\n",
        "FactHasPart_Hair = Fact(2)\n",
        "#FactHasPart_Mammal = Fact(4)\n",
        "\n",
        "FactAnimal.addFactConstant('Cats')\n",
        "FactAnimal.addFactConstant('Dogs')\n",
        "FactAnimal.addFactConstant('Mice')\n",
        "FactAnimal.addFactConstant('Camels')\n",
        "FactAnimal.addFactTerms(Animal.getPredicateName())\n",
        "\n",
        "FactHasPart_Hair.addFactConstant('Mice')\n",
        "FactHasPart_Hair.addFactConstant('Dog')\n",
        "FactHasPart_Hair.addFactConstant('Cats')\n",
        "FactHasPart_Hair.addFactConstant('Camels')\n",
        "FactHasPart_Hair.addFactTerms(hasPart_Hair.getPredicateName())\n",
        "\n",
        "#FactHasPart.addFactConstant(('Mice', 'hair'))\n",
        "#FactHasPart.addFactConstant(('Dogs', 'hair'))\n",
        "#FactHasPart.addFactConstant(('Cats', 'hair'))\n",
        "#FactHasPart.addFactConstant(('Camels', 'hair'))\n",
        "#FactHasPart.addFactTerms(hasPart.getPredicateName())\n",
        "\n",
        "\n",
        "FactAnimal.addFacts(Animal.getPredicateName(), ['Cats', 'Dogs', 'Mice', 'Camels'])\n",
        "FactHasPart_Hair.addFacts(hasPart_Hair.getPredicateName(), ['Mice', 'Dogs', 'Cats', 'Camels'])\n",
        "\n",
        "\n",
        "set_facts = set()\n",
        "\n",
        "set_facts.add(FactAnimal)\n",
        "set_facts.add(FactHasPart_Hair)\n"
      ]
    },
    {
      "cell_type": "code",
      "execution_count": 6,
      "metadata": {
        "colab": {
          "base_uri": "https://localhost:8080/"
        },
        "id": "szBkPmXOWbU3",
        "outputId": "eb93fb7a-ae79-4625-cb7f-0407d18220ab"
      },
      "outputs": [
        {
          "name": "stdout",
          "output_type": "stream",
          "text": [
            "{'Animal': ['Cats', 'Dogs', 'Mice', 'Camels']}\n",
            "{'hasPart_Hair': ['Mice', 'Dogs', 'Cats', 'Camels']}\n"
          ]
        }
      ],
      "source": [
        "for f in set_facts:\n",
        "  print(f.getFacts())"
      ]
    },
    {
      "cell_type": "code",
      "execution_count": null,
      "metadata": {
        "id": "6sOGCvEtfhcQ"
      },
      "outputs": [],
      "source": []
    },
    {
      "cell_type": "code",
      "execution_count": 7,
      "metadata": {
        "id": "1owPm3Cj9v53"
      },
      "outputs": [],
      "source": [
        "############# Rules #########################\n",
        "\n",
        "rule1 = Rule(1)\n",
        "rule2 = Rule(2)\n",
        "rule3 = Rule(3)\n",
        "rule4 = Rule(4)\n",
        "rule5 = Rule(5)\n",
        "rule6 = Rule(6)\n",
        "\n",
        "##Rule 1 Body###\n",
        "rule1.addRuleBodyPredicates(Animal.getPredicateName())\n",
        "rule1.addRuleBodyPredicates(hasPart.getPredicateName())\n",
        "rule1.addRuleBodyPredicates(Skeleton.getPredicateName())\n",
        "\n",
        "rule1.addRuleExistentialVariable(Animal.getPredicateName(),'x')\n",
        "rule1.addRuleExistentialVariable(Skeleton.getPredicateName() ,'y')\n",
        "rule1.addRuleExistentialVariable(hasPart.getPredicateName() ,('x','y'))\n",
        "## Rule 1 Conclusion###\n",
        "rule1.addRuleConclusion(Vertebrates.getPredicateName())\n",
        "rule1.addRuleConclusionVariables(Vertebrates.getPredicateName(), 'x')\n",
        "\n",
        "##Rule 2 Body###\n",
        "rule2.addRuleBodyPredicates(Vertebrates.getPredicateName())\n",
        "\n",
        "rule2.addRuleExistentialVariable(Vertebrates.getPredicateName() ,'x')\n",
        "## Rule 2 Conclusion###\n",
        "rule2.addRuleConclusion(Animal.getPredicateName())\n",
        "rule2.addRuleConclusion(hasPart.getPredicateName())\n",
        "rule2.addRuleConclusion(Skeleton.getPredicateName())\n",
        "\n",
        "rule2.addRuleConclusionVariables(Animal.getPredicateName(),'x')\n",
        "rule2.addRuleConclusionVariables(Skeleton.getPredicateName() ,'y')\n",
        "rule2.addRuleConclusionVariables(hasPart.getPredicateName() ,('x','y'))\n",
        "\n",
        "### Rule 3 Bdoy###\n",
        "rule3.addRuleBodyPredicates(Ostiechtyien.getPredicateName())\n",
        "\n",
        "rule3.addRuleExistentialVariable(Ostiechtyien.getPredicateName() ,'x')\n",
        "### Rule 3 conclusion####\n",
        "rule3.addRuleConclusion(Animal.getPredicateName())\n",
        "rule3.addRuleConclusion(hasPart_Bone.getPredicateName())\n",
        "\n",
        "rule3.addRuleConclusionVariables(Animal.getPredicateName() ,'x')\n",
        "rule3.addRuleConclusionVariables(hasPart_Bone.getPredicateName() ,'x')\n",
        "\n",
        "### Rule 4 body###\n",
        "rule4.addRuleBodyPredicates(Mammal.getPredicateName())\n",
        "\n",
        "rule4.addRuleExistentialVariable(Mammal.getPredicateName() ,'x')\n",
        "## Rule 4 conclusion###\n",
        "rule4.addRuleConclusion(Animal.getPredicateName())\n",
        "rule4.addRuleConclusion(hasPart_Hair.getPredicateName())\n",
        "\n",
        "rule4.addRuleConclusionVariables(Animal.getPredicateName() ,'x')\n",
        "rule4.addRuleConclusionVariables(hasPart_Hair.getPredicateName() ,'x')\n",
        "\n",
        "### Rule 5 body###\n",
        "rule5.addRuleBodyPredicates(Mammal.getPredicateName())\n",
        "\n",
        "rule5.addRuleExistentialVariable(Mammal.getPredicateName() ,'x')\n",
        "## Rule 5 conclusion###\n",
        "rule5.addRuleConclusion(Animal.getPredicateName())\n",
        "rule5.addRuleConclusion(hasPart_Mammal.getPredicateName())\n",
        "\n",
        "rule5.addRuleConclusionVariables(Animal.getPredicateName() ,'x')\n",
        "rule5.addRuleConclusionVariables(hasPart_Mammal.getPredicateName() ,'x')\n",
        "\n",
        "### Rule 6 Body##\n",
        "rule6.addRuleBodyPredicates(Animal.getPredicateName())\n",
        "rule6.addRuleBodyPredicates(hasPart_Hair.getPredicateName())\n",
        "\n",
        "rule6.addRuleExistentialVariable(Animal.getPredicateName() ,'x')\n",
        "rule6.addRuleExistentialVariable(hasPart_Hair.getPredicateName() ,'x')\n",
        "### Rule 6 Conclusion ###\n",
        "rule6.addRuleConclusion(Mammal.getPredicateName())\n",
        "rule6.addRuleConclusionVariables(Mammal.getPredicateName() ,'x')"
      ]
    },
    {
      "cell_type": "code",
      "execution_count": 8,
      "metadata": {
        "id": "BT3lorz1QkBN"
      },
      "outputs": [],
      "source": [
        "### Adding rules to the Predicates\n",
        "\n",
        "Animal.addPredicateRule(rule1)\n",
        "hasPart.addPredicateRule(rule1)\n",
        "Skeleton.addPredicateRule(rule1)\n",
        "Vertebrates.addPredicateRule(rule1)\n",
        "\n",
        "\n",
        "Animal.addPredicateRule(rule2)\n",
        "hasPart.addPredicateRule(rule2)\n",
        "Skeleton.addPredicateRule(rule2)\n",
        "Vertebrates.addPredicateRule(rule2)\n",
        "\n",
        "Ostiechtyien.addPredicateRule(rule3)\n",
        "Animal.addPredicateRule(rule3)\n",
        "hasPart_Bone.addPredicateRule(rule3)\n",
        "\n",
        "Mammal.addPredicateRule(rule4)\n",
        "Animal.addPredicateRule(rule4)\n",
        "hasPart_Hair.addPredicateRule(rule4)\n",
        "\n",
        "Mammal.addPredicateRule(rule5)\n",
        "Animal.addPredicateRule(rule5)\n",
        "hasPart_Mammal.addPredicateRule(rule5)\n",
        "\n",
        "Mammal.addPredicateRule(rule6)\n",
        "Animal.addPredicateRule(rule6)\n",
        "hasPart_Hair.addPredicateRule(rule6)\n",
        "\n",
        "\n"
      ]
    },
    {
      "attachments": {},
      "cell_type": "markdown",
      "metadata": {
        "id": "vOEAwaFPOBlu"
      },
      "source": [
        "Adding Rules into set of Rules"
      ]
    },
    {
      "cell_type": "code",
      "execution_count": 9,
      "metadata": {
        "id": "9WfMa9K07Knz"
      },
      "outputs": [],
      "source": [
        "set_rules = set()\n",
        "\n",
        "set_rules.add(rule1)\n",
        "set_rules.add(rule2)\n",
        "set_rules.add(rule3)\n",
        "set_rules.add(rule4)\n",
        "set_rules.add(rule5)\n",
        "set_rules.add(rule6)"
      ]
    },
    {
      "cell_type": "code",
      "execution_count": 10,
      "metadata": {
        "colab": {
          "base_uri": "https://localhost:8080/"
        },
        "id": "XQ-dqhkcpGWS",
        "outputId": "389f0ce2-fc05-4440-bdc9-8c9844df95ee"
      },
      "outputs": [
        {
          "name": "stdout",
          "output_type": "stream",
          "text": [
            "variable ['Animal']\n",
            "constants ['Cats', 'Dogs', 'Mice', 'Camels']\n",
            "variable ['hasPart_Hair']\n",
            "constants ['Mice', 'Dog', 'Cats', 'Camels']\n",
            "{'Cats': 'hasPart_Hair', 'Dogs': 'Animal', 'Mice': 'hasPart_Hair', 'Camels': 'hasPart_Hair', 'Dog': 'hasPart_Hair'}\n"
          ]
        }
      ],
      "source": [
        "final = {}\n",
        "final_list = []\n",
        "for r in set_facts:\n",
        "  val = r.getFactTerms()\n",
        "  print(\"variable\", val)\n",
        "  con = r.getFactConstant()\n",
        "  print(\"constants\", con)\n",
        "  for n, key in enumerate(con):\n",
        "    final[key] = val[0]\n",
        "print(final)"
      ]
    },
    {
      "cell_type": "code",
      "execution_count": 11,
      "metadata": {
        "colab": {
          "base_uri": "https://localhost:8080/"
        },
        "id": "XaGlz4SzhBp1",
        "outputId": "734ae523-b389-4e2e-f877-ca3c48d85d2f"
      },
      "outputs": [
        {
          "name": "stdout",
          "output_type": "stream",
          "text": [
            "{'Vertebrates'}\n",
            "{'Animal', 'hasPart_Bone'}\n",
            "{'hasPart_Mammal', 'Animal'}\n",
            "{'Mammal'}\n",
            "{'Animal', 'hasPart_Hair'}\n",
            "{'hasPart', 'Animal', 'Skeleton'}\n"
          ]
        }
      ],
      "source": [
        "for i in set_rules:\n",
        "  pred = set(i.getRuleConclusionVariables())\n",
        "  print(pred)"
      ]
    },
    {
      "cell_type": "code",
      "execution_count": null,
      "metadata": {
        "id": "X-MbDyNqhQyV"
      },
      "outputs": [],
      "source": []
    },
    {
      "attachments": {},
      "cell_type": "markdown",
      "metadata": {
        "id": "B9CWzpuNNFit"
      },
      "source": [
        "**Context Making Function, takes set of rules as an Input and return a set of context C.**"
      ]
    },
    {
      "cell_type": "code",
      "execution_count": 12,
      "metadata": {
        "id": "LIK7L43a8ho3"
      },
      "outputs": [],
      "source": [
        "C = set()\n",
        "def contextMaking(rules):\n",
        "    id = 0\n",
        "    for i in rules:\n",
        "        result = []\n",
        "        #print(\"predicate\", i.getRuleBodyPredicates())\n",
        "        if len(C) == 0:\n",
        "            cont = Context(id)\n",
        "            cont.addContextExistentialRule(i)\n",
        "            cont.addRuleBodySize(i.getRuleBodyPredicatesSize())\n",
        "            cont.addContextConclusions(i.getRuleConclusions())\n",
        "            for j in i.getRuleBodyPredicates():\n",
        "                cont.addContextLabel(j)\n",
        "            C.add(cont)\n",
        "            #print(\"context is made\")\n",
        "        else:\n",
        "            for c in C.copy():\n",
        "                label = set(c.getContextLabel())\n",
        "                #print(\"label\",label)\n",
        "                res = label.intersection(set(i.getRuleBodyPredicates()))\n",
        "                #print(res)\n",
        "                if len(res) !=0:\n",
        "                  result.append(res)\n",
        "                  cxt = []\n",
        "                  cxt.append(c)\n",
        "            if len(result) == 0:\n",
        "                cont = Context(id)\n",
        "                cont.addContextExistentialRule(i)\n",
        "                cont.addRuleBodySize(i.getRuleBodyPredicatesSize())\n",
        "                cont.addContextConclusions(i.getRuleConclusions())\n",
        "                for j in i.getRuleBodyPredicates():\n",
        "                    cont.addContextLabel(j)\n",
        "                C.add(cont)\n",
        "                #print(\"res is zero, new context made\")\n",
        "            else:\n",
        "              for k in cxt:\n",
        "                k.addContextExistentialRule(i)\n",
        "                for j in i.getRuleBodyPredicates():\n",
        "                    k.addContextLabel(j)\n",
        "                #c.addContextExistentialRule(i)\n",
        "                #print(\"context updated\")\n",
        "        id+=1\n",
        "    return C"
      ]
    },
    {
      "cell_type": "code",
      "execution_count": 13,
      "metadata": {
        "colab": {
          "base_uri": "https://localhost:8080/"
        },
        "id": "jsfpUuy08hut",
        "outputId": "6e1f9404-7e56-432b-a1e5-9c574ac2ced1"
      },
      "outputs": [
        {
          "data": {
            "text/plain": [
              "{<__main__.Context at 0x17846188450>,\n",
              " <__main__.Context at 0x17846188bd0>,\n",
              " <__main__.Context at 0x1784618a010>,\n",
              " <__main__.Context at 0x1784618a2d0>}"
            ]
          },
          "execution_count": 13,
          "metadata": {},
          "output_type": "execute_result"
        }
      ],
      "source": [
        "contextMaking(set_rules)"
      ]
    },
    {
      "cell_type": "code",
      "execution_count": 14,
      "metadata": {
        "colab": {
          "base_uri": "https://localhost:8080/"
        },
        "id": "7yxL8L_kBa_0",
        "outputId": "746e64ae-6d64-4584-b3a8-66922ef2d367"
      },
      "outputs": [
        {
          "name": "stdout",
          "output_type": "stream",
          "text": [
            "[1]\n",
            "[1]\n",
            "[1]\n",
            "[3]\n"
          ]
        }
      ],
      "source": [
        "for i in C:\n",
        "    print(i.getRuleBodySize())"
      ]
    },
    {
      "attachments": {},
      "cell_type": "markdown",
      "metadata": {
        "id": "e-tNoSJWOU0_"
      },
      "source": [
        "**Facts Partition Algo. It takes set of facts and Set of Context as input**"
      ]
    },
    {
      "cell_type": "code",
      "execution_count": 15,
      "metadata": {
        "id": "JtEOAwMiTd_N"
      },
      "outputs": [],
      "source": [
        "set_Partition_Fact = set()\n",
        "\n",
        "def fact_Partition(facts, context):\n",
        "  result = []\n",
        "  matched_facts = []\n",
        "  for c in context:\n",
        "    label = set(c.getContextLabel())\n",
        "    for j in facts:\n",
        "      terms = set(j.getFactTerms())\n",
        "      res = terms.intersection(label)\n",
        "      if res != 0:\n",
        "        result.append(res)\n",
        "        matched_facts.append(j)\n",
        "    if len(res) != 0:\n",
        "      pfact = Fact(c.getContextID())\n",
        "      for i in matched_facts:\n",
        "        for key, val in i.getFacts().items():\n",
        "          pfact.addFacts(key, val)\n",
        "          pfact.addFactTerms(key)\n",
        "          pfact.addFactConstant(val)\n",
        "      if pfact in set_Partition_Fact:\n",
        "        continue\n",
        "      else:\n",
        "        set_Partition_Fact.add(pfact)\n",
        "  return set_Partition_Fact\n",
        "\n"
      ]
    },
    {
      "cell_type": "code",
      "execution_count": 16,
      "metadata": {
        "colab": {
          "base_uri": "https://localhost:8080/"
        },
        "id": "RWp2igYyU-8H",
        "outputId": "9efea1a0-2d28-4e3c-e754-ea5222eb2a29"
      },
      "outputs": [
        {
          "name": "stdout",
          "output_type": "stream",
          "text": [
            "{'Animal': ['Cats', 'Dogs', 'Mice', 'Camels'], 'hasPart_Hair': ['Mice', 'Dogs', 'Cats', 'Camels']}\n"
          ]
        }
      ],
      "source": [
        "fact_Partition(set_facts, C)\n",
        "for f in set_Partition_Fact:\n",
        "  print(f.getFacts())"
      ]
    },
    {
      "cell_type": "code",
      "execution_count": 17,
      "metadata": {
        "id": "s6h0oMbJnZ-t"
      },
      "outputs": [],
      "source": [
        "# return a set of negative rules\n",
        "def negative_rules(rules):\n",
        "  set_negative_rules = set()\n",
        "  for i in rules:\n",
        "    if len(i.getRuleConclusions()) == 0:\n",
        "      set_negative_rules.add(i)\n",
        "  return set_negative_rules"
      ]
    },
    {
      "cell_type": "code",
      "execution_count": 18,
      "metadata": {
        "id": "Fa038H4dnrIX"
      },
      "outputs": [],
      "source": [
        "negative_rules = negative_rules(set_rules)"
      ]
    },
    {
      "cell_type": "code",
      "execution_count": 19,
      "metadata": {
        "id": "xnhklcKT_IDc"
      },
      "outputs": [],
      "source": [
        "def find_homomorphism(rule, fact):\n",
        "  substituation_dict = {}\n",
        "  rule_values = rule.getRuleExistentialVariables()\n",
        "  rule_body = rule.getRuleBodyPredicates()\n",
        "  #print(rule_body)\n",
        "  fact_body = fact.getFacts()\n",
        "  #print(list(fact_body.keys()))\n",
        "  for p in rule_body:\n",
        "    if p in list(fact_body.keys()):\n",
        "      substituation_dict[rule_values[p]] = fact_body[p]\n",
        "    else:\n",
        "      return None\n",
        "  return substituation_dict"
      ]
    },
    {
      "cell_type": "code",
      "execution_count": 20,
      "metadata": {
        "id": "pSSJwrMTkA1S"
      },
      "outputs": [],
      "source": [
        "######### NEW ####################\n",
        "\n",
        "import random\n",
        "\n",
        "def derive_method(rule, fact):\n",
        "    derived_result = []\n",
        "    der = {}\n",
        "    random_dict = {}\n",
        "    fresh_variables = ['X', 'Y', 'Z']\n",
        "    mapping = find_homomorphism(rule, fact)\n",
        "    #print(\"mapping\", mapping)\n",
        "    conclusion_predicates = rule.getRuleExistentialVariables().keys()\n",
        "    if mapping is not None:\n",
        "        for key, val in rule.getRuleConclusionVariables().items():\n",
        "            for k,v in mapping.items():\n",
        "                if isinstance(val, tuple):\n",
        "                    new_list = []\n",
        "                    for i in val:\n",
        "                        if i == k:\n",
        "                            new_list.append(v)\n",
        "                        else:\n",
        "#                             if i in list(random_dict.copy().keys()):\n",
        "#                                 new_list.append(random_dict[i])\n",
        "#                             else:\n",
        "#                                 random_val = random.choice(fresh_variables)\n",
        "#                                 random_dict[i] = random_val\n",
        "#                                 new_list.append(random_val)\n",
        "                            if len(random_dict.copy()) == 0:\n",
        "                                random_val = random.choice(fresh_variables)\n",
        "                                random_dict[i] = random_val\n",
        "                                new_list.append(random_val)\n",
        "                            else:\n",
        "                                for t in random_dict.copy().keys():\n",
        "                                    if i == t:\n",
        "                                        new_list.append(random_dict[t])\n",
        "                                        break\n",
        "                                    else:\n",
        "                                        random_val = random.choice(fresh_variables)\n",
        "                                        random_dict[i] = random_val\n",
        "                                        new_list.append(random_val)\n",
        "                    der[key] = new_list\n",
        "                    derived_result.append(der.copy())\n",
        "                else:\n",
        "                    if val==k:\n",
        "                        der[key] = v\n",
        "                        derived_result.append(der.copy())\n",
        "                    else:\n",
        "                        random_val = random.choice(fresh_variables)\n",
        "                        random_dict[key] = random_val\n",
        "                        der[key] = random_val\n",
        "                        derived_result.append(der.copy())\n",
        "    else:\n",
        "        return None\n",
        "    return derived_result\n"
      ]
    },
    {
      "attachments": {},
      "cell_type": "markdown",
      "metadata": {
        "id": "ENjs1RvBV5uC"
      },
      "source": [
        "Contextual Derivation"
      ]
    },
    {
      "cell_type": "code",
      "execution_count": 25,
      "metadata": {
        "id": "6fexfByexww5"
      },
      "outputs": [],
      "source": [
        "######## NEW ONE for context ################\n",
        "\n",
        "def context_make_derivation(context, fact):\n",
        "  start = time.time()\n",
        "  result = []\n",
        "  for c in context:\n",
        "    context_rule = c.getContextExistentialRules()               # get the rules inside the context\n",
        "    context_label = c.getContextLabel()                         # label of context\n",
        "    size = c.getRuleBodySize()\n",
        "    partition_fact = fact_Partition(fact, context)            # Partition of facts\n",
        "    for x in partition_fact:\n",
        "      if x.getFactId() == c.getContextID():                   # fact id matches with context id\n",
        "        #combinitions_fact = make_combinations(x)              # make combinations\n",
        "        #print(combinitions_fact)\n",
        "        for r in set_rules:\n",
        "          #for f in combinitions_fact:\n",
        "          res = derive_method(r, x)\n",
        "          #print(res)\n",
        "          if res is not None:\n",
        "            if res in result:\n",
        "              break\n",
        "            else:\n",
        "              result.append(res)\n",
        "              #print(result)\n",
        "              new_fact = Fact(len(set_facts)+1)\n",
        "              for i in res:\n",
        "                for key, val in i.items():\n",
        "                  new_fact.addFacts(key, val)\n",
        "                  new_fact.addFactTerms(key)\n",
        "                  new_fact.addFactConstant(val)\n",
        "                  fact.add(new_fact)\n",
        "                #print(i.keys(), \"is\",i.values())\n",
        "          else:\n",
        "            continue\n",
        "  end = time.time()\n",
        "  print(end-start)\n",
        "  return result"
      ]
    },
    {
      "cell_type": "code",
      "execution_count": 26,
      "metadata": {
        "colab": {
          "base_uri": "https://localhost:8080/"
        },
        "id": "qDq7Iz_Sj-oZ",
        "outputId": "678fbe63-8768-41c1-8d1b-f46085c40515"
      },
      "outputs": [
        {
          "name": "stdout",
          "output_type": "stream",
          "text": [
            "0.0\n"
          ]
        },
        {
          "data": {
            "text/plain": [
              "[[{'Animal': ['Mice', 'Dogs', 'Cats', 'Camels']},\n",
              "  {'Animal': ['Mice', 'Dogs', 'Cats', 'Camels'],\n",
              "   'hasPart_Mammal': ['Mice', 'Dogs', 'Cats', 'Camels']}],\n",
              " [{'Mammal': ['Mice', 'Dogs', 'Cats', 'Camels']}],\n",
              " [{'Animal': ['Mice', 'Dogs', 'Cats', 'Camels']},\n",
              "  {'Animal': ['Mice', 'Dogs', 'Cats', 'Camels'],\n",
              "   'hasPart_Hair': ['Mice', 'Dogs', 'Cats', 'Camels']}]]"
            ]
          },
          "execution_count": 26,
          "metadata": {},
          "output_type": "execute_result"
        }
      ],
      "source": [
        "context_make_derivation(C, set_facts)"
      ]
    },
    {
      "cell_type": "code",
      "execution_count": null,
      "metadata": {},
      "outputs": [],
      "source": []
    }
  ],
  "metadata": {
    "colab": {
      "provenance": []
    },
    "kernelspec": {
      "display_name": "Python 3",
      "name": "python3"
    },
    "language_info": {
      "codemirror_mode": {
        "name": "ipython",
        "version": 3
      },
      "file_extension": ".py",
      "mimetype": "text/x-python",
      "name": "python",
      "nbconvert_exporter": "python",
      "pygments_lexer": "ipython3",
      "version": "3.11.0"
    }
  },
  "nbformat": 4,
  "nbformat_minor": 0
}

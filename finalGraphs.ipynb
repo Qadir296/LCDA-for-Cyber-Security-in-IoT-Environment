{
 "cells": [
  {
   "cell_type": "code",
   "execution_count": null,
   "metadata": {},
   "outputs": [],
   "source": [
    "import matplotlib.pyplot as plt\n",
    "\n",
    "cKBS_parameters = ['10', '25', '50', '100']\n",
    "cKBS_values = [3.9e-4, 5.8e-4, 7.2e-4, 1.2e-3]\n",
    "\n",
    "FRN_parameters = ['10', '25', '50', '100']\n",
    "FRN_values = [1.4e-3, 2.6e-3, 9.4e-3, 10e-2]\n",
    "\n",
    "plt.figure(figsize=(6, 5), dpi= 300)\n",
    "plt.plot(cKBS_parameters, cKBS_values, marker='^', label='Proposed Algo')\n",
    "plt.plot(FRN_parameters, FRN_values, marker='o', label='FRN')\n",
    "plt.xlabel('Size of facts')\n",
    "plt.ticklabel_format(axis='y', style='sci', scilimits=(2,4))\n",
    "plt.grid(b = 'True', linestyle = '--')\n",
    "plt.ylabel('Processing Time')\n",
    "#plt.title('Comparison of Methods')\n",
    "plt.legend()\n",
    "plt.show()"
   ]
  },
  {
   "cell_type": "code",
   "execution_count": null,
   "metadata": {},
   "outputs": [],
   "source": []
  }
 ],
 "metadata": {
  "kernelspec": {
   "display_name": "Python 3",
   "language": "python",
   "name": "python3"
  },
  "language_info": {
   "codemirror_mode": {
    "name": "ipython",
    "version": 3
   },
   "file_extension": ".py",
   "mimetype": "text/x-python",
   "name": "python",
   "nbconvert_exporter": "python",
   "pygments_lexer": "ipython3",
   "version": "3.11.0"
  },
  "orig_nbformat": 4
 },
 "nbformat": 4,
 "nbformat_minor": 2
}
